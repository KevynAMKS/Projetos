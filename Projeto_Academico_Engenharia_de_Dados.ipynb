{
  "nbformat": 4,
  "nbformat_minor": 0,
  "metadata": {
    "colab": {
      "provenance": []
    },
    "kernelspec": {
      "name": "python3",
      "display_name": "Python 3"
    },
    "language_info": {
      "name": "python"
    }
  },
  "cells": [
    {
      "cell_type": "code",
      "execution_count": 1,
      "metadata": {
        "colab": {
          "base_uri": "https://localhost:8080/"
        },
        "id": "VHGfJphnw37j",
        "outputId": "431f3231-919d-423e-ae18-20a3cfc2ed70"
      },
      "outputs": [
        {
          "output_type": "stream",
          "name": "stdout",
          "text": [
            "Looking in indexes: https://pypi.org/simple, https://us-python.pkg.dev/colab-wheels/public/simple/\n",
            "Collecting spark\n",
            "  Downloading spark-0.2.1.tar.gz (41 kB)\n",
            "     ━━━━━━━━━━━━━━━━━━━━━━━━━━━━━━━━━━━━━━━━ 41.0/41.0 kB 2.4 MB/s eta 0:00:00\n",
            "  Preparing metadata (setup.py): started\n",
            "  Preparing metadata (setup.py): finished with status 'done'\n",
            "Building wheels for collected packages: spark\n",
            "  Building wheel for spark (setup.py): started\n",
            "  Building wheel for spark (setup.py): finished with status 'done'\n",
            "  Created wheel for spark: filename=spark-0.2.1-py3-none-any.whl size=58747 sha256=9c026bd0dcbcd0701852acc27820bdc2c77d89aea1c5840e7814cfb7761980ed\n",
            "  Stored in directory: /root/.cache/pip/wheels/63/88/77/b4131110ea4094540f7b47c6d62a649807d7e94800da5eab0b\n",
            "Successfully built spark\n",
            "Installing collected packages: spark\n",
            "Successfully installed spark-0.2.1\n",
            "Looking in indexes: https://pypi.org/simple, https://us-python.pkg.dev/colab-wheels/public/simple/\n",
            "Collecting pyspark\n",
            "  Downloading pyspark-3.4.0.tar.gz (310.8 MB)\n",
            "     ━━━━━━━━━━━━━━━━━━━━━━━━━━━━━━━━━━━━━━━ 310.8/310.8 MB 4.4 MB/s eta 0:00:00\n",
            "  Preparing metadata (setup.py): started\n",
            "  Preparing metadata (setup.py): finished with status 'done'\n",
            "Requirement already satisfied: py4j==0.10.9.7 in /usr/local/lib/python3.10/dist-packages (from pyspark) (0.10.9.7)\n",
            "Building wheels for collected packages: pyspark\n",
            "  Building wheel for pyspark (setup.py): started\n",
            "  Building wheel for pyspark (setup.py): finished with status 'done'\n",
            "  Created wheel for pyspark: filename=pyspark-3.4.0-py2.py3-none-any.whl size=311317130 sha256=fd6085fa333a70b562de492591ef064c29d15aa9fd8932aedab0bfc381c34e7b\n",
            "  Stored in directory: /root/.cache/pip/wheels/7b/1b/4b/3363a1d04368e7ff0d408e57ff57966fcdf00583774e761327\n",
            "Successfully built pyspark\n",
            "Installing collected packages: pyspark\n",
            "Successfully installed pyspark-3.4.0\n"
          ]
        }
      ],
      "source": [
        "%%sh\n",
        "sudo pip install spark\n",
        "sudo pip install pyspark"
      ]
    },
    {
      "cell_type": "code",
      "source": [
        "import pandas as pd\n",
        "import spark,pyspark\n",
        "from pyspark.sql import *\n",
        "from pyspark.sql import functions as f\n",
        "from pyspark.sql import types as t \n",
        "from datetime import datetime, date\n",
        "from pyspark.sql.functions import trim\n",
        "from pyspark.sql import SparkSession"
      ],
      "metadata": {
        "id": "tQVPWRinxL0A"
      },
      "execution_count": 2,
      "outputs": []
    },
    {
      "cell_type": "code",
      "source": [
        "spark = SparkSession.builder.master('local').appName('AC5 DataEng').getOrCreate()"
      ],
      "metadata": {
        "id": "zTzBK2uWxWNn"
      },
      "execution_count": 3,
      "outputs": []
    },
    {
      "cell_type": "code",
      "source": [
        "dfapark = spark.read.format('parquet').load('/content/vendas.parquet')\n",
        "dfapark.show()"
      ],
      "metadata": {
        "colab": {
          "base_uri": "https://localhost:8080/"
        },
        "id": "_2AWSQaQxqX2",
        "outputId": "a9a31722-eece-495a-db94-25eeea90c858"
      },
      "execution_count": 4,
      "outputs": [
        {
          "output_type": "stream",
          "name": "stdout",
          "text": [
            "+-------------+----------+-------------+----------+---+---+----------+----+-----+------+----+----------------+--------------------+-----------+------------+-------------+-----------------+-----------------+\n",
            "|      cod_ean|cod_pessoa|cod_transacao|      data|vlr|qtd|      nome| sms|email|classe|sexo|          cidade|         des_produto|des_familia|   des_secao|des_categoria|des_sub_categoria|__index_level_0__|\n",
            "+-------------+----------+-------------+----------+---+---+----------+----+-----+------+----+----------------+--------------------+-----------+------------+-------------+-----------------+-----------------+\n",
            "|7896901200013|      4644|      8064284|2020-10-26| 67|  3|NOME_a4644|true|false|  Ouro|   F|       São Paulo|                null|       null|        null|         null|             null|                0|\n",
            "|7897001010014|      3578|      8067745|2020-10-26| 54|  7|NOME_o3578|true|false|  Ouro|   M|  Belo Horizonte|                null|       null|        null|         null|             null|                1|\n",
            "|         8555|      6505|      8301911|2020-12-18|  6|  1|NOME_i6505|true|false|  Ouro|   F|  Rio de Janeiro|PAO DA CASA FRANC...| PERECIVEIS|PADARIA LOJA|PRODUCAO PAES|                 |                2|\n",
            "|         2325|      3982|      8194983|2020-11-25| 22|  1|NOME_s3982|true| true|  Ouro|   F|São Bento do Sul|                null|       null|        null|         null|             null|                3|\n",
            "|          666|      1195|      8109606|2020-11-05| 32|  1|NOME_a1195|true| true|  Ouro|   M|    Campo Alegre| ACEM BOVINO KG PECA| PERECIVEIS|     ACOUGUE| CARNE BOVINA|                 |                4|\n",
            "|         3087|     36979|      8123367|2020-11-08| 64|  5|      null|null| null|  null|null|            null|                null|       null|        null|         null|             null|                5|\n",
            "|7894900011517|     14173|      8027160|2020-10-17| 41|  6|NOME_14173|true|false|  Ouro|   F|  Rio de Janeiro|                null|       null|        null|         null|             null|                6|\n",
            "|         3690|      3618|      8025931|2020-10-17|  3|  1|NOME_e3618|true| true|  Ouro|   F|          Manaus| TOMATE PIZZADORO KG| PERECIVEIS|       F L V|      LEGUMES|                 |                7|\n",
            "|         5623|      4860|      8026361|2020-10-17|  3|  1|NOME_a4860|true|false|  Ouro|   F|          Manaus|  CEBOLA NACIONAL KG| PERECIVEIS|       F L V|       CEBOLA|                 |                8|\n",
            "|         5623|     23792|      8270907|2020-12-11|  6|  2|      null|null| null|  null|null|            null|  CEBOLA NACIONAL KG| PERECIVEIS|       F L V|       CEBOLA|                 |                9|\n",
            "|         9591|     42057|      8114968|2020-11-06|  6|  0|NOME_42057|true|false|  Ouro|   M|São Bento do Sul|   ALHO GRANEL T6 KG| PERECIVEIS|       F L V|         ALHO|                 |               10|\n",
            "|         3690|     12539|      8174079|2020-11-20| 13|  4|NOME_12539|true| true|  Ouro|   F|          Recife| TOMATE PIZZADORO KG| PERECIVEIS|       F L V|      LEGUMES|                 |               11|\n",
            "|7897001010014|     23881|      8188049|2020-11-23|  8|  1|NOME_23881|true|false|  Ouro|   F|          Manaus|                null|       null|        null|         null|             null|               12|\n",
            "|         1663|     12539|      8232779|2020-12-03|  6|  1|NOME_12539|true| true|  Ouro|   F|          Recife|    BANANA NANICA KG| PERECIVEIS|       F L V|       FRUTAS|                 |               13|\n",
            "|7896864400178|      1195|      7917141|2020-09-22| 35|  5|NOME_a1195|true| true|  Ouro|   M|    Campo Alegre|                null|       null|        null|         null|             null|               14|\n",
            "|         1663|     14173|      7916639|2020-09-22|  7|  1|NOME_14173|true|false|  Ouro|   F|  Rio de Janeiro|    BANANA NANICA KG| PERECIVEIS|       F L V|       FRUTAS|                 |               15|\n",
            "|         1663|      2274|      8036529|2020-10-19|  9|  3|NOME_e2274|true|false|  Ouro|   M|          Manaus|    BANANA NANICA KG| PERECIVEIS|       F L V|       FRUTAS|                 |               16|\n",
            "|7897001010014|      1364|      8121027|2020-11-07| 15|  2|NOME_n1364|true| true|  Ouro|   F|          Manaus|                null|       null|        null|         null|             null|               17|\n",
            "|         5623|     23792|      8136281|2020-11-11|  5|  1|      null|null| null|  null|null|            null|  CEBOLA NACIONAL KG| PERECIVEIS|       F L V|       CEBOLA|                 |               18|\n",
            "|         5623|      1324|      8308469|2020-12-19|  5|  1|NOME_r1324|true| true|  Ouro|   F|     Campo Largo|  CEBOLA NACIONAL KG| PERECIVEIS|       F L V|       CEBOLA|                 |               19|\n",
            "+-------------+----------+-------------+----------+---+---+----------+----+-----+------+----+----------------+--------------------+-----------+------------+-------------+-----------------+-----------------+\n",
            "only showing top 20 rows\n",
            "\n"
          ]
        }
      ]
    },
    {
      "cell_type": "code",
      "source": [
        "dfapark.printSchema()"
      ],
      "metadata": {
        "colab": {
          "base_uri": "https://localhost:8080/"
        },
        "id": "LXKRk_cVz8kM",
        "outputId": "6f124618-099c-452d-dec7-f0b87ad2b74c"
      },
      "execution_count": 5,
      "outputs": [
        {
          "output_type": "stream",
          "name": "stdout",
          "text": [
            "root\n",
            " |-- cod_ean: string (nullable = true)\n",
            " |-- cod_pessoa: long (nullable = true)\n",
            " |-- cod_transacao: long (nullable = true)\n",
            " |-- data: date (nullable = true)\n",
            " |-- vlr: long (nullable = true)\n",
            " |-- qtd: long (nullable = true)\n",
            " |-- nome: string (nullable = true)\n",
            " |-- sms: boolean (nullable = true)\n",
            " |-- email: boolean (nullable = true)\n",
            " |-- classe: string (nullable = true)\n",
            " |-- sexo: string (nullable = true)\n",
            " |-- cidade: string (nullable = true)\n",
            " |-- des_produto: string (nullable = true)\n",
            " |-- des_familia: string (nullable = true)\n",
            " |-- des_secao: string (nullable = true)\n",
            " |-- des_categoria: string (nullable = true)\n",
            " |-- des_sub_categoria: string (nullable = true)\n",
            " |-- __index_level_0__: long (nullable = true)\n",
            "\n"
          ]
        }
      ]
    },
    {
      "cell_type": "code",
      "source": [
        "dfapark = dfapark.withColumn(\"data\",dfapark.data.cast(\"date\"))\n",
        "dfapark.show()"
      ],
      "metadata": {
        "colab": {
          "base_uri": "https://localhost:8080/"
        },
        "id": "qwubn17yxufv",
        "outputId": "95f122c6-eb55-4262-deec-42deeaad3a01"
      },
      "execution_count": 6,
      "outputs": [
        {
          "output_type": "stream",
          "name": "stdout",
          "text": [
            "+-------------+----------+-------------+----------+---+---+----------+----+-----+------+----+----------------+--------------------+-----------+------------+-------------+-----------------+-----------------+\n",
            "|      cod_ean|cod_pessoa|cod_transacao|      data|vlr|qtd|      nome| sms|email|classe|sexo|          cidade|         des_produto|des_familia|   des_secao|des_categoria|des_sub_categoria|__index_level_0__|\n",
            "+-------------+----------+-------------+----------+---+---+----------+----+-----+------+----+----------------+--------------------+-----------+------------+-------------+-----------------+-----------------+\n",
            "|7896901200013|      4644|      8064284|2020-10-26| 67|  3|NOME_a4644|true|false|  Ouro|   F|       São Paulo|                null|       null|        null|         null|             null|                0|\n",
            "|7897001010014|      3578|      8067745|2020-10-26| 54|  7|NOME_o3578|true|false|  Ouro|   M|  Belo Horizonte|                null|       null|        null|         null|             null|                1|\n",
            "|         8555|      6505|      8301911|2020-12-18|  6|  1|NOME_i6505|true|false|  Ouro|   F|  Rio de Janeiro|PAO DA CASA FRANC...| PERECIVEIS|PADARIA LOJA|PRODUCAO PAES|                 |                2|\n",
            "|         2325|      3982|      8194983|2020-11-25| 22|  1|NOME_s3982|true| true|  Ouro|   F|São Bento do Sul|                null|       null|        null|         null|             null|                3|\n",
            "|          666|      1195|      8109606|2020-11-05| 32|  1|NOME_a1195|true| true|  Ouro|   M|    Campo Alegre| ACEM BOVINO KG PECA| PERECIVEIS|     ACOUGUE| CARNE BOVINA|                 |                4|\n",
            "|         3087|     36979|      8123367|2020-11-08| 64|  5|      null|null| null|  null|null|            null|                null|       null|        null|         null|             null|                5|\n",
            "|7894900011517|     14173|      8027160|2020-10-17| 41|  6|NOME_14173|true|false|  Ouro|   F|  Rio de Janeiro|                null|       null|        null|         null|             null|                6|\n",
            "|         3690|      3618|      8025931|2020-10-17|  3|  1|NOME_e3618|true| true|  Ouro|   F|          Manaus| TOMATE PIZZADORO KG| PERECIVEIS|       F L V|      LEGUMES|                 |                7|\n",
            "|         5623|      4860|      8026361|2020-10-17|  3|  1|NOME_a4860|true|false|  Ouro|   F|          Manaus|  CEBOLA NACIONAL KG| PERECIVEIS|       F L V|       CEBOLA|                 |                8|\n",
            "|         5623|     23792|      8270907|2020-12-11|  6|  2|      null|null| null|  null|null|            null|  CEBOLA NACIONAL KG| PERECIVEIS|       F L V|       CEBOLA|                 |                9|\n",
            "|         9591|     42057|      8114968|2020-11-06|  6|  0|NOME_42057|true|false|  Ouro|   M|São Bento do Sul|   ALHO GRANEL T6 KG| PERECIVEIS|       F L V|         ALHO|                 |               10|\n",
            "|         3690|     12539|      8174079|2020-11-20| 13|  4|NOME_12539|true| true|  Ouro|   F|          Recife| TOMATE PIZZADORO KG| PERECIVEIS|       F L V|      LEGUMES|                 |               11|\n",
            "|7897001010014|     23881|      8188049|2020-11-23|  8|  1|NOME_23881|true|false|  Ouro|   F|          Manaus|                null|       null|        null|         null|             null|               12|\n",
            "|         1663|     12539|      8232779|2020-12-03|  6|  1|NOME_12539|true| true|  Ouro|   F|          Recife|    BANANA NANICA KG| PERECIVEIS|       F L V|       FRUTAS|                 |               13|\n",
            "|7896864400178|      1195|      7917141|2020-09-22| 35|  5|NOME_a1195|true| true|  Ouro|   M|    Campo Alegre|                null|       null|        null|         null|             null|               14|\n",
            "|         1663|     14173|      7916639|2020-09-22|  7|  1|NOME_14173|true|false|  Ouro|   F|  Rio de Janeiro|    BANANA NANICA KG| PERECIVEIS|       F L V|       FRUTAS|                 |               15|\n",
            "|         1663|      2274|      8036529|2020-10-19|  9|  3|NOME_e2274|true|false|  Ouro|   M|          Manaus|    BANANA NANICA KG| PERECIVEIS|       F L V|       FRUTAS|                 |               16|\n",
            "|7897001010014|      1364|      8121027|2020-11-07| 15|  2|NOME_n1364|true| true|  Ouro|   F|          Manaus|                null|       null|        null|         null|             null|               17|\n",
            "|         5623|     23792|      8136281|2020-11-11|  5|  1|      null|null| null|  null|null|            null|  CEBOLA NACIONAL KG| PERECIVEIS|       F L V|       CEBOLA|                 |               18|\n",
            "|         5623|      1324|      8308469|2020-12-19|  5|  1|NOME_r1324|true| true|  Ouro|   F|     Campo Largo|  CEBOLA NACIONAL KG| PERECIVEIS|       F L V|       CEBOLA|                 |               19|\n",
            "+-------------+----------+-------------+----------+---+---+----------+----+-----+------+----+----------------+--------------------+-----------+------------+-------------+-----------------+-----------------+\n",
            "only showing top 20 rows\n",
            "\n"
          ]
        }
      ]
    },
    {
      "cell_type": "code",
      "source": [
        "dfapark = dfapark.withColumn(\"ano\",f.year('data'))\n",
        "dfapark = dfapark.withColumn(\"mes\",f.month('data'))\n",
        "dfapark = dfapark.withColumn(\"dia\",f.dayofmonth('data'))\n",
        "dfapark.show()"
      ],
      "metadata": {
        "id": "4xProwK_4DZT",
        "colab": {
          "base_uri": "https://localhost:8080/"
        },
        "outputId": "9acc2952-383e-41d6-ebc8-3d8ad6fe14a9"
      },
      "execution_count": 7,
      "outputs": [
        {
          "output_type": "stream",
          "name": "stdout",
          "text": [
            "+-------------+----------+-------------+----------+---+---+----------+----+-----+------+----+----------------+--------------------+-----------+------------+-------------+-----------------+-----------------+----+---+---+\n",
            "|      cod_ean|cod_pessoa|cod_transacao|      data|vlr|qtd|      nome| sms|email|classe|sexo|          cidade|         des_produto|des_familia|   des_secao|des_categoria|des_sub_categoria|__index_level_0__| ano|mes|dia|\n",
            "+-------------+----------+-------------+----------+---+---+----------+----+-----+------+----+----------------+--------------------+-----------+------------+-------------+-----------------+-----------------+----+---+---+\n",
            "|7896901200013|      4644|      8064284|2020-10-26| 67|  3|NOME_a4644|true|false|  Ouro|   F|       São Paulo|                null|       null|        null|         null|             null|                0|2020| 10| 26|\n",
            "|7897001010014|      3578|      8067745|2020-10-26| 54|  7|NOME_o3578|true|false|  Ouro|   M|  Belo Horizonte|                null|       null|        null|         null|             null|                1|2020| 10| 26|\n",
            "|         8555|      6505|      8301911|2020-12-18|  6|  1|NOME_i6505|true|false|  Ouro|   F|  Rio de Janeiro|PAO DA CASA FRANC...| PERECIVEIS|PADARIA LOJA|PRODUCAO PAES|                 |                2|2020| 12| 18|\n",
            "|         2325|      3982|      8194983|2020-11-25| 22|  1|NOME_s3982|true| true|  Ouro|   F|São Bento do Sul|                null|       null|        null|         null|             null|                3|2020| 11| 25|\n",
            "|          666|      1195|      8109606|2020-11-05| 32|  1|NOME_a1195|true| true|  Ouro|   M|    Campo Alegre| ACEM BOVINO KG PECA| PERECIVEIS|     ACOUGUE| CARNE BOVINA|                 |                4|2020| 11|  5|\n",
            "|         3087|     36979|      8123367|2020-11-08| 64|  5|      null|null| null|  null|null|            null|                null|       null|        null|         null|             null|                5|2020| 11|  8|\n",
            "|7894900011517|     14173|      8027160|2020-10-17| 41|  6|NOME_14173|true|false|  Ouro|   F|  Rio de Janeiro|                null|       null|        null|         null|             null|                6|2020| 10| 17|\n",
            "|         3690|      3618|      8025931|2020-10-17|  3|  1|NOME_e3618|true| true|  Ouro|   F|          Manaus| TOMATE PIZZADORO KG| PERECIVEIS|       F L V|      LEGUMES|                 |                7|2020| 10| 17|\n",
            "|         5623|      4860|      8026361|2020-10-17|  3|  1|NOME_a4860|true|false|  Ouro|   F|          Manaus|  CEBOLA NACIONAL KG| PERECIVEIS|       F L V|       CEBOLA|                 |                8|2020| 10| 17|\n",
            "|         5623|     23792|      8270907|2020-12-11|  6|  2|      null|null| null|  null|null|            null|  CEBOLA NACIONAL KG| PERECIVEIS|       F L V|       CEBOLA|                 |                9|2020| 12| 11|\n",
            "|         9591|     42057|      8114968|2020-11-06|  6|  0|NOME_42057|true|false|  Ouro|   M|São Bento do Sul|   ALHO GRANEL T6 KG| PERECIVEIS|       F L V|         ALHO|                 |               10|2020| 11|  6|\n",
            "|         3690|     12539|      8174079|2020-11-20| 13|  4|NOME_12539|true| true|  Ouro|   F|          Recife| TOMATE PIZZADORO KG| PERECIVEIS|       F L V|      LEGUMES|                 |               11|2020| 11| 20|\n",
            "|7897001010014|     23881|      8188049|2020-11-23|  8|  1|NOME_23881|true|false|  Ouro|   F|          Manaus|                null|       null|        null|         null|             null|               12|2020| 11| 23|\n",
            "|         1663|     12539|      8232779|2020-12-03|  6|  1|NOME_12539|true| true|  Ouro|   F|          Recife|    BANANA NANICA KG| PERECIVEIS|       F L V|       FRUTAS|                 |               13|2020| 12|  3|\n",
            "|7896864400178|      1195|      7917141|2020-09-22| 35|  5|NOME_a1195|true| true|  Ouro|   M|    Campo Alegre|                null|       null|        null|         null|             null|               14|2020|  9| 22|\n",
            "|         1663|     14173|      7916639|2020-09-22|  7|  1|NOME_14173|true|false|  Ouro|   F|  Rio de Janeiro|    BANANA NANICA KG| PERECIVEIS|       F L V|       FRUTAS|                 |               15|2020|  9| 22|\n",
            "|         1663|      2274|      8036529|2020-10-19|  9|  3|NOME_e2274|true|false|  Ouro|   M|          Manaus|    BANANA NANICA KG| PERECIVEIS|       F L V|       FRUTAS|                 |               16|2020| 10| 19|\n",
            "|7897001010014|      1364|      8121027|2020-11-07| 15|  2|NOME_n1364|true| true|  Ouro|   F|          Manaus|                null|       null|        null|         null|             null|               17|2020| 11|  7|\n",
            "|         5623|     23792|      8136281|2020-11-11|  5|  1|      null|null| null|  null|null|            null|  CEBOLA NACIONAL KG| PERECIVEIS|       F L V|       CEBOLA|                 |               18|2020| 11| 11|\n",
            "|         5623|      1324|      8308469|2020-12-19|  5|  1|NOME_r1324|true| true|  Ouro|   F|     Campo Largo|  CEBOLA NACIONAL KG| PERECIVEIS|       F L V|       CEBOLA|                 |               19|2020| 12| 19|\n",
            "+-------------+----------+-------------+----------+---+---+----------+----+-----+------+----+----------------+--------------------+-----------+------------+-------------+-----------------+-----------------+----+---+---+\n",
            "only showing top 20 rows\n",
            "\n"
          ]
        }
      ]
    },
    {
      "cell_type": "code",
      "source": [
        "f.when(dfapark.sms.isNull(),False).otherwise(dfapark.sms)\n"
      ],
      "metadata": {
        "id": "hrHBEUVeTX2J",
        "outputId": "04b6d876-112d-4600-b752-bdd6d6b3a966",
        "colab": {
          "base_uri": "https://localhost:8080/"
        }
      },
      "execution_count": 9,
      "outputs": [
        {
          "output_type": "execute_result",
          "data": {
            "text/plain": [
              "Column<'CASE WHEN (sms IS NULL) THEN false ELSE sms END'>"
            ]
          },
          "metadata": {},
          "execution_count": 9
        }
      ]
    },
    {
      "cell_type": "code",
      "source": [
        "dfapark = dfapark.withColumn(\"total\",f.lit(dfapark.vlr*dfapark.qtd))"
      ],
      "metadata": {
        "id": "QkaNjZOhUQXo"
      },
      "execution_count": 10,
      "outputs": []
    },
    {
      "cell_type": "code",
      "source": [
        "dfapark.show()"
      ],
      "metadata": {
        "colab": {
          "base_uri": "https://localhost:8080/"
        },
        "id": "NfRZDuqZUhlv",
        "outputId": "1b05f0aa-031e-4f94-dc29-17d045b2df65"
      },
      "execution_count": 11,
      "outputs": [
        {
          "output_type": "stream",
          "name": "stdout",
          "text": [
            "+-------------+----------+-------------+----------+---+---+----------+----+-----+------+----+----------------+--------------------+-----------+------------+-------------+-----------------+-----------------+----+---+---+-----+\n",
            "|      cod_ean|cod_pessoa|cod_transacao|      data|vlr|qtd|      nome| sms|email|classe|sexo|          cidade|         des_produto|des_familia|   des_secao|des_categoria|des_sub_categoria|__index_level_0__| ano|mes|dia|total|\n",
            "+-------------+----------+-------------+----------+---+---+----------+----+-----+------+----+----------------+--------------------+-----------+------------+-------------+-----------------+-----------------+----+---+---+-----+\n",
            "|7896901200013|      4644|      8064284|2020-10-26| 67|  3|NOME_a4644|true|false|  Ouro|   F|       São Paulo|                null|       null|        null|         null|             null|                0|2020| 10| 26|  201|\n",
            "|7897001010014|      3578|      8067745|2020-10-26| 54|  7|NOME_o3578|true|false|  Ouro|   M|  Belo Horizonte|                null|       null|        null|         null|             null|                1|2020| 10| 26|  378|\n",
            "|         8555|      6505|      8301911|2020-12-18|  6|  1|NOME_i6505|true|false|  Ouro|   F|  Rio de Janeiro|PAO DA CASA FRANC...| PERECIVEIS|PADARIA LOJA|PRODUCAO PAES|                 |                2|2020| 12| 18|    6|\n",
            "|         2325|      3982|      8194983|2020-11-25| 22|  1|NOME_s3982|true| true|  Ouro|   F|São Bento do Sul|                null|       null|        null|         null|             null|                3|2020| 11| 25|   22|\n",
            "|          666|      1195|      8109606|2020-11-05| 32|  1|NOME_a1195|true| true|  Ouro|   M|    Campo Alegre| ACEM BOVINO KG PECA| PERECIVEIS|     ACOUGUE| CARNE BOVINA|                 |                4|2020| 11|  5|   32|\n",
            "|         3087|     36979|      8123367|2020-11-08| 64|  5|      null|null| null|  null|null|            null|                null|       null|        null|         null|             null|                5|2020| 11|  8|  320|\n",
            "|7894900011517|     14173|      8027160|2020-10-17| 41|  6|NOME_14173|true|false|  Ouro|   F|  Rio de Janeiro|                null|       null|        null|         null|             null|                6|2020| 10| 17|  246|\n",
            "|         3690|      3618|      8025931|2020-10-17|  3|  1|NOME_e3618|true| true|  Ouro|   F|          Manaus| TOMATE PIZZADORO KG| PERECIVEIS|       F L V|      LEGUMES|                 |                7|2020| 10| 17|    3|\n",
            "|         5623|      4860|      8026361|2020-10-17|  3|  1|NOME_a4860|true|false|  Ouro|   F|          Manaus|  CEBOLA NACIONAL KG| PERECIVEIS|       F L V|       CEBOLA|                 |                8|2020| 10| 17|    3|\n",
            "|         5623|     23792|      8270907|2020-12-11|  6|  2|      null|null| null|  null|null|            null|  CEBOLA NACIONAL KG| PERECIVEIS|       F L V|       CEBOLA|                 |                9|2020| 12| 11|   12|\n",
            "|         9591|     42057|      8114968|2020-11-06|  6|  0|NOME_42057|true|false|  Ouro|   M|São Bento do Sul|   ALHO GRANEL T6 KG| PERECIVEIS|       F L V|         ALHO|                 |               10|2020| 11|  6|    0|\n",
            "|         3690|     12539|      8174079|2020-11-20| 13|  4|NOME_12539|true| true|  Ouro|   F|          Recife| TOMATE PIZZADORO KG| PERECIVEIS|       F L V|      LEGUMES|                 |               11|2020| 11| 20|   52|\n",
            "|7897001010014|     23881|      8188049|2020-11-23|  8|  1|NOME_23881|true|false|  Ouro|   F|          Manaus|                null|       null|        null|         null|             null|               12|2020| 11| 23|    8|\n",
            "|         1663|     12539|      8232779|2020-12-03|  6|  1|NOME_12539|true| true|  Ouro|   F|          Recife|    BANANA NANICA KG| PERECIVEIS|       F L V|       FRUTAS|                 |               13|2020| 12|  3|    6|\n",
            "|7896864400178|      1195|      7917141|2020-09-22| 35|  5|NOME_a1195|true| true|  Ouro|   M|    Campo Alegre|                null|       null|        null|         null|             null|               14|2020|  9| 22|  175|\n",
            "|         1663|     14173|      7916639|2020-09-22|  7|  1|NOME_14173|true|false|  Ouro|   F|  Rio de Janeiro|    BANANA NANICA KG| PERECIVEIS|       F L V|       FRUTAS|                 |               15|2020|  9| 22|    7|\n",
            "|         1663|      2274|      8036529|2020-10-19|  9|  3|NOME_e2274|true|false|  Ouro|   M|          Manaus|    BANANA NANICA KG| PERECIVEIS|       F L V|       FRUTAS|                 |               16|2020| 10| 19|   27|\n",
            "|7897001010014|      1364|      8121027|2020-11-07| 15|  2|NOME_n1364|true| true|  Ouro|   F|          Manaus|                null|       null|        null|         null|             null|               17|2020| 11|  7|   30|\n",
            "|         5623|     23792|      8136281|2020-11-11|  5|  1|      null|null| null|  null|null|            null|  CEBOLA NACIONAL KG| PERECIVEIS|       F L V|       CEBOLA|                 |               18|2020| 11| 11|    5|\n",
            "|         5623|      1324|      8308469|2020-12-19|  5|  1|NOME_r1324|true| true|  Ouro|   F|     Campo Largo|  CEBOLA NACIONAL KG| PERECIVEIS|       F L V|       CEBOLA|                 |               19|2020| 12| 19|    5|\n",
            "+-------------+----------+-------------+----------+---+---+----------+----+-----+------+----+----------------+--------------------+-----------+------------+-------------+-----------------+-----------------+----+---+---+-----+\n",
            "only showing top 20 rows\n",
            "\n"
          ]
        }
      ]
    },
    {
      "cell_type": "code",
      "source": [
        "dfapark.write.partitionBy('ano','mes','dia').parquet('/content/vendas_tratadas')"
      ],
      "metadata": {
        "id": "Xv1YkdkqVlSm"
      },
      "execution_count": 12,
      "outputs": []
    },
    {
      "cell_type": "code",
      "source": [
        "dfapark.registerTempTable('vendas_table')"
      ],
      "metadata": {
        "id": "s5Trb74cVlfV",
        "colab": {
          "base_uri": "https://localhost:8080/"
        },
        "outputId": "1fba1c99-8d26-4ea2-8cfd-3d0021bf0a8a"
      },
      "execution_count": 13,
      "outputs": [
        {
          "output_type": "stream",
          "name": "stderr",
          "text": [
            "/usr/local/lib/python3.10/dist-packages/pyspark/sql/dataframe.py:330: FutureWarning: Deprecated in 2.0, use createOrReplaceTempView instead.\n",
            "  warnings.warn(\"Deprecated in 2.0, use createOrReplaceTempView instead.\", FutureWarning)\n"
          ]
        }
      ]
    },
    {
      "cell_type": "code",
      "source": [
        "dfaparkclon = dfapark \n",
        "produto = dfaparkclon[['des_produto','des_familia', 'des_secao', 'des_categoria','des_sub_categoria']]\n",
        "produto=produto.dropna (how='all')\n",
        "produto = produto.distinct()\n",
        "produto.show()"
      ],
      "metadata": {
        "colab": {
          "base_uri": "https://localhost:8080/"
        },
        "id": "UQsTqcwEVlns",
        "outputId": "bbddf1a7-6817-4fc5-974f-f8fc55b9bbd0"
      },
      "execution_count": 14,
      "outputs": [
        {
          "output_type": "stream",
          "name": "stdout",
          "text": [
            "+--------------------+-----------+-----------+-------------------+-----------------+\n",
            "|         des_produto|des_familia|  des_secao|      des_categoria|des_sub_categoria|\n",
            "+--------------------+-----------+-----------+-------------------+-----------------+\n",
            "|          CENOURA KG| PERECIVEIS|      F L V|TUBERCULOS E RAIZES|                 |\n",
            "|COXA SOBRECOXA FR...| PERECIVEIS|    ACOUGUE|               AVES|                 |\n",
            "| COSTELINHA SUINA KG| PERECIVEIS|    ACOUGUE|        CARNE SUINA|                 |\n",
            "| TOMATE PIZZADORO KG| PERECIVEIS|      F L V|            LEGUMES|                 |\n",
            "|   ALHO GRANEL T6 KG| PERECIVEIS|      F L V|               ALHO|                 |\n",
            "|LEITE UHT CATIVA ...|  MERCEARIA|  ALTO GIRO|   LEITE LONGA VIDA|                 |\n",
            "|COXAO MOLE BOVINO...| PERECIVEIS|    ACOUGUE|       CARNE BOVINA|                 |\n",
            "|LING TOSC PERDIGA...| PERECIVEIS|FRIOS GERAL|    FRIOS EMBUTIDOS|                 |\n",
            "|CERVEJA SKOL 350 ...|  MERCEARIA|    BEBIDAS|           CERVEJAS|                 |\n",
            "|FILE MINHON DESOS...| PERECIVEIS|    ACOUGUE|       CARNE BOVINA|                 |\n",
            "|PONTA PEITO BOVIN...| PERECIVEIS|    ACOUGUE|       CARNE BOVINA|                 |\n",
            "|  CEBOLA NACIONAL KG| PERECIVEIS|      F L V|             CEBOLA|                 |\n",
            "|FILE FRANGO SEARA...| PERECIVEIS|    ACOUGUE|               AVES|                 |\n",
            "|MU?ARELA SANTANA ...| PERECIVEIS|FRIOS GERAL|QUEIJOS E REQUEIJAO|                 |\n",
            "|LEITE UHT GEGE 1 ...|  MERCEARIA|  ALTO GIRO|   LEITE LONGA VIDA|                 |\n",
            "|  COXAO DURO KG BIFE| PERECIVEIS|    ACOUGUE|       CARNE BOVINA|                 |\n",
            "|CONTRA FILE BOVIN...| PERECIVEIS|    ACOUGUE|       CARNE BOVINA|                 |\n",
            "|OLEO SOJA LEVE 90...|  MERCEARIA|  ALTO GIRO|          OLEO SOJA|                 |\n",
            "|COSTELA BOV FATIA...| PERECIVEIS|    ACOUGUE|       CARNE BOVINA|                 |\n",
            "|ARROZ SANO 5 KG T...|  MERCEARIA|  ALTO GIRO|              ARROZ|                 |\n",
            "+--------------------+-----------+-----------+-------------------+-----------------+\n",
            "only showing top 20 rows\n",
            "\n"
          ]
        }
      ]
    },
    {
      "cell_type": "code",
      "source": [
        "sparks = SparkSession.builder.getOrCreate()\n",
        "subsdfspk = spark.sql('select distinct cidade from vendas_table')\n",
        "subsdfspk.write.mode(\"overwrite\").format(\"parquet\").save(\"/content/cidade\")\n",
        "subsdfspk.show()"
      ],
      "metadata": {
        "id": "qOee6ptGFSpm",
        "outputId": "986b2416-8719-4675-9d35-a5c305f8af75",
        "colab": {
          "base_uri": "https://localhost:8080/"
        }
      },
      "execution_count": 17,
      "outputs": [
        {
          "output_type": "stream",
          "name": "stdout",
          "text": [
            "+----------------+\n",
            "|          cidade|\n",
            "+----------------+\n",
            "|          Santos|\n",
            "|        Curitiba|\n",
            "|            null|\n",
            "|        Campinas|\n",
            "|  Belo Horizonte|\n",
            "|        Salvador|\n",
            "|     Campo Largo|\n",
            "|       São Paulo|\n",
            "|          Recife|\n",
            "|          Manaus|\n",
            "|  Rio de Janeiro|\n",
            "|    Campo Alegre|\n",
            "|São Bento do Sul|\n",
            "|    Porto Alegre|\n",
            "+----------------+\n",
            "\n"
          ]
        }
      ]
    },
    {
      "cell_type": "code",
      "source": [
        "produto = produto.select(\n",
        "    trim(produto.des_produto).alias(\"des_produto\"),\n",
        "    trim(produto.des_familia).alias(\"des_familia\"),\n",
        "    trim(produto.des_secao).alias(\"des_secao\"),\n",
        "    trim(produto.des_categoria).alias(\"des_categoria\"),\n",
        "    trim(produto.des_sub_categoria).alias(\"des_sub_categoria\"))\n",
        "produto.show()"
      ],
      "metadata": {
        "id": "bNuEjDz2FkkT",
        "outputId": "f0805ba5-e6b1-4016-f998-4e7b49633802",
        "colab": {
          "base_uri": "https://localhost:8080/"
        }
      },
      "execution_count": 18,
      "outputs": [
        {
          "output_type": "stream",
          "name": "stdout",
          "text": [
            "+--------------------+-----------+-----------+-------------------+-----------------+\n",
            "|         des_produto|des_familia|  des_secao|      des_categoria|des_sub_categoria|\n",
            "+--------------------+-----------+-----------+-------------------+-----------------+\n",
            "|          CENOURA KG| PERECIVEIS|      F L V|TUBERCULOS E RAIZES|                 |\n",
            "|COXA SOBRECOXA FR...| PERECIVEIS|    ACOUGUE|               AVES|                 |\n",
            "| COSTELINHA SUINA KG| PERECIVEIS|    ACOUGUE|        CARNE SUINA|                 |\n",
            "| TOMATE PIZZADORO KG| PERECIVEIS|      F L V|            LEGUMES|                 |\n",
            "|   ALHO GRANEL T6 KG| PERECIVEIS|      F L V|               ALHO|                 |\n",
            "|LEITE UHT CATIVA ...|  MERCEARIA|  ALTO GIRO|   LEITE LONGA VIDA|                 |\n",
            "|COXAO MOLE BOVINO...| PERECIVEIS|    ACOUGUE|       CARNE BOVINA|                 |\n",
            "|LING TOSC PERDIGA...| PERECIVEIS|FRIOS GERAL|    FRIOS EMBUTIDOS|                 |\n",
            "|CERVEJA SKOL 350 ...|  MERCEARIA|    BEBIDAS|           CERVEJAS|                 |\n",
            "|FILE MINHON DESOS...| PERECIVEIS|    ACOUGUE|       CARNE BOVINA|                 |\n",
            "|PONTA PEITO BOVIN...| PERECIVEIS|    ACOUGUE|       CARNE BOVINA|                 |\n",
            "|  CEBOLA NACIONAL KG| PERECIVEIS|      F L V|             CEBOLA|                 |\n",
            "|FILE FRANGO SEARA...| PERECIVEIS|    ACOUGUE|               AVES|                 |\n",
            "|MU?ARELA SANTANA ...| PERECIVEIS|FRIOS GERAL|QUEIJOS E REQUEIJAO|                 |\n",
            "|LEITE UHT GEGE 1 ...|  MERCEARIA|  ALTO GIRO|   LEITE LONGA VIDA|                 |\n",
            "|  COXAO DURO KG BIFE| PERECIVEIS|    ACOUGUE|       CARNE BOVINA|                 |\n",
            "|CONTRA FILE BOVIN...| PERECIVEIS|    ACOUGUE|       CARNE BOVINA|                 |\n",
            "|OLEO SOJA LEVE 90...|  MERCEARIA|  ALTO GIRO|          OLEO SOJA|                 |\n",
            "|COSTELA BOV FATIA...| PERECIVEIS|    ACOUGUE|       CARNE BOVINA|                 |\n",
            "|ARROZ SANO 5 KG T...|  MERCEARIA|  ALTO GIRO|              ARROZ|                 |\n",
            "+--------------------+-----------+-----------+-------------------+-----------------+\n",
            "only showing top 20 rows\n",
            "\n"
          ]
        }
      ]
    },
    {
      "cell_type": "code",
      "source": [
        "produto.write.format(\"parquet\").mode(\"overwrite\").save(\"/content/produto\")"
      ],
      "metadata": {
        "id": "fkPei_PyZUf2"
      },
      "execution_count": 19,
      "outputs": []
    },
    {
      "cell_type": "code",
      "source": [
        "venda_mulheres=dfapark.where(dfapark.sexo=='F')\n",
        "venda_mulheres.write.format(\"json\").mode(\"overwrite\").save(\"/content/venda_mulheres.json\")"
      ],
      "metadata": {
        "id": "HuyOTo6ybOVU"
      },
      "execution_count": 20,
      "outputs": []
    },
    {
      "cell_type": "code",
      "source": [
        "venda_unicas = dfapark.filter(\"qtd == 1 AND vlr<10\")\n",
        "venda_unicas.write.format('csv').save('venda_unica')"
      ],
      "metadata": {
        "id": "r7tf9qKcc8gC"
      },
      "execution_count": 21,
      "outputs": []
    },
    {
      "cell_type": "code",
      "source": [],
      "metadata": {
        "id": "lzU8Xl1sCpRs"
      },
      "execution_count": null,
      "outputs": []
    },
    {
      "cell_type": "code",
      "source": [],
      "metadata": {
        "id": "juw9XpV-Cpc6"
      },
      "execution_count": null,
      "outputs": []
    }
  ]
}